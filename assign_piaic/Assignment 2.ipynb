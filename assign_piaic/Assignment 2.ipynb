{
 "cells": [
  {
   "cell_type": "markdown",
   "id": "russian-reference",
   "metadata": {},
   "source": [
    "# Numpy_Assignment_2::\n",
    "Submitted By Samiullah\n",
    "\n",
    "Roll number: PIAIC122111\n",
    "\n",
    "Batch 12\n"
   ]
  },
  {
   "cell_type": "markdown",
   "id": "fallen-packet",
   "metadata": {},
   "source": [
    "# Question:1"
   ]
  },
  {
   "cell_type": "markdown",
   "id": "structural-trinidad",
   "metadata": {},
   "source": [
    "Convert a 1D array to a 2D array with 2 rows?\n",
    "\n",
    "Desired output::\n",
    "\n",
    "array([[0, 1, 2, 3, 4], [5, 6, 7, 8, 9]])"
   ]
  },
  {
   "cell_type": "code",
   "execution_count": 2,
   "id": "rapid-symbol",
   "metadata": {},
   "outputs": [],
   "source": [
    "import numpy as np"
   ]
  },
  {
   "cell_type": "code",
   "execution_count": 33,
   "id": "sustained-field",
   "metadata": {},
   "outputs": [
    {
     "name": "stdout",
     "output_type": "stream",
     "text": [
      "[0 1 2 3 4 5 6 7 8 9]\n",
      "***********************\n",
      "[[0 1 2 3 4]\n",
      " [5 6 7 8 9]]\n"
     ]
    }
   ],
   "source": [
    "arr_1d = np.arange(10)\n",
    "print (arr_1d)\n",
    "print (\"***********************\")\n",
    "arr_2d = arr_1d.reshape(2, 5)\n",
    "print (arr_2d)"
   ]
  },
  {
   "cell_type": "markdown",
   "id": "white-rating",
   "metadata": {},
   "source": [
    "# Question:2"
   ]
  },
  {
   "cell_type": "markdown",
   "id": "increased-controversy",
   "metadata": {},
   "source": [
    "How to stack two arrays vertically?\n",
    "\n",
    "Desired Output::\n",
    "\n",
    "        array([[0, 1, 2, 3, 4], [5, 6, 7, 8, 9], [1, 1, 1, 1, 1], [1, 1, 1, 1, 1]])"
   ]
  },
  {
   "cell_type": "code",
   "execution_count": 34,
   "id": "devoted-arrangement",
   "metadata": {},
   "outputs": [
    {
     "name": "stdout",
     "output_type": "stream",
     "text": [
      "[[0 1 2 3 4]\n",
      " [5 6 7 8 9]]\n",
      "[[1 1 1 1 1]\n",
      " [1 1 1 1 1]]\n",
      "***************************\n",
      "[[0 1 2 3 4]\n",
      " [5 6 7 8 9]\n",
      " [1 1 1 1 1]\n",
      " [1 1 1 1 1]]\n"
     ]
    }
   ],
   "source": [
    "arr1 = np.arange(10).reshape(2,5)\n",
    "print (arr1)\n",
    "arr2 = np.ones(10, int).reshape(2,5)\n",
    "print (arr2)\n",
    "print (\"***************************\")\n",
    "print (np.vstack((arr1, arr2)))"
   ]
  },
  {
   "cell_type": "markdown",
   "id": "integral-registration",
   "metadata": {},
   "source": [
    "# Question:3"
   ]
  },
  {
   "cell_type": "markdown",
   "id": "every-tournament",
   "metadata": {},
   "source": [
    "How to stack two arrays horizontally?\n",
    "\n",
    "Desired Output::\n",
    "\n",
    "        array([[0, 1, 2, 3, 4, 1, 1, 1, 1, 1], [5, 6, 7, 8, 9, 1, 1, 1, 1, 1]])"
   ]
  },
  {
   "cell_type": "code",
   "execution_count": 32,
   "id": "frank-tomorrow",
   "metadata": {},
   "outputs": [
    {
     "name": "stdout",
     "output_type": "stream",
     "text": [
      "[[0 1 2 3 4]\n",
      " [5 6 7 8 9]]\n",
      "[[1 1 1 1 1]\n",
      " [1 1 1 1 1]]\n",
      "***************************\n",
      "[[0 1 2 3 4 1 1 1 1 1]\n",
      " [5 6 7 8 9 1 1 1 1 1]]\n"
     ]
    }
   ],
   "source": [
    "arr1 = np.arange(10).reshape(2,5)\n",
    "print (arr1)\n",
    "arr2 = np.ones(10, int).reshape(2,5)\n",
    "print (arr2)\n",
    "print (\"***************************\")\n",
    "print (np.hstack((arr1, arr2)))"
   ]
  },
  {
   "cell_type": "markdown",
   "id": "billion-feeling",
   "metadata": {},
   "source": [
    "# Question:4"
   ]
  },
  {
   "cell_type": "markdown",
   "id": "forced-rouge",
   "metadata": {},
   "source": [
    "How to convert an array of arrays into a flat 1d array?\n",
    "\n",
    "Desired Output::\n",
    "\n",
    "        array([0, 1, 2, 3, 4, 5, 6, 7, 8, 9])"
   ]
  },
  {
   "cell_type": "code",
   "execution_count": 29,
   "id": "persistent-entry",
   "metadata": {},
   "outputs": [
    {
     "name": "stdout",
     "output_type": "stream",
     "text": [
      "[[0 1 2 3 4]\n",
      " [5 6 7 8 9]]\n",
      "**************************\n",
      "[0 1 2 3 4 5 6 7 8 9]\n"
     ]
    }
   ],
   "source": [
    "arr2d = np.arange(10).reshape(2,5)\n",
    "print(arr2d)\n",
    "print (\"**************************\")\n",
    "arr1d = arr2d.flatten()\n",
    "print (arr1d)"
   ]
  },
  {
   "cell_type": "markdown",
   "id": "domestic-comfort",
   "metadata": {},
   "source": [
    "# Question:5"
   ]
  },
  {
   "cell_type": "markdown",
   "id": "frozen-exhaust",
   "metadata": {},
   "source": [
    "How to Convert higher dimension into one dimension?\n",
    "\n",
    "Desired Output::\n",
    "\n",
    "        array([ 0, 1, 2, 3, 4, 5, 6, 7, 8, 9, 10, 11, 12, 13, 14])"
   ]
  },
  {
   "cell_type": "code",
   "execution_count": 51,
   "id": "union-cooking",
   "metadata": {},
   "outputs": [
    {
     "name": "stdout",
     "output_type": "stream",
     "text": [
      "[[ 0  1  2  3  4]\n",
      " [ 5  6  7  8  9]\n",
      " [10 11 12 13 14]]\n",
      "********************\n",
      "[ 0  1  2  3  4  5  6  7  8  9 10 11 12 13 14]\n"
     ]
    }
   ],
   "source": [
    "arr = np.arange(15).reshape(3,5)\n",
    "print (arr)\n",
    "print (\"********************\")\n",
    "arr1d = arr.flatten()\n",
    "print (arr1d)"
   ]
  },
  {
   "cell_type": "markdown",
   "id": "constant-cameroon",
   "metadata": {},
   "source": [
    "# Question:6"
   ]
  },
  {
   "cell_type": "markdown",
   "id": "prescription-prime",
   "metadata": {},
   "source": [
    "Convert one dimension to higher dimension?\n",
    "\n",
    "Desired Output::\n",
    "\n",
    "        array([[ 0, 1, 2], [ 3, 4, 5], [ 6, 7, 8], [ 9, 10, 11], [12, 13, 14]])"
   ]
  },
  {
   "cell_type": "code",
   "execution_count": 52,
   "id": "finite-procurement",
   "metadata": {},
   "outputs": [
    {
     "name": "stdout",
     "output_type": "stream",
     "text": [
      "[ 0  1  2  3  4  5  6  7  8  9 10 11 12 13 14]\n",
      "**************************\n",
      "[[ 0  1  2]\n",
      " [ 3  4  5]\n",
      " [ 6  7  8]\n",
      " [ 9 10 11]\n",
      " [12 13 14]]\n"
     ]
    }
   ],
   "source": [
    "arr1d = np.arange(15)\n",
    "print (arr1d)\n",
    "print (\"**************************\")\n",
    "arr2d = arr1d.reshape(5,3)\n",
    "print (arr2d)"
   ]
  },
  {
   "cell_type": "markdown",
   "id": "owned-bahrain",
   "metadata": {},
   "source": [
    "# Question:7"
   ]
  },
  {
   "cell_type": "markdown",
   "id": "sixth-feature",
   "metadata": {},
   "source": [
    "Create 5x5 an array and find the square of an array?"
   ]
  },
  {
   "cell_type": "code",
   "execution_count": 57,
   "id": "personalized-williams",
   "metadata": {},
   "outputs": [
    {
     "name": "stdout",
     "output_type": "stream",
     "text": [
      "[[ 0  1  2  3  4]\n",
      " [ 5  6  7  8  9]\n",
      " [10 11 12 13 14]\n",
      " [15 16 17 18 19]\n",
      " [20 21 22 23 24]]\n",
      "****************************\n",
      "[[  0   1   4   9  16]\n",
      " [ 25  36  49  64  81]\n",
      " [100 121 144 169 196]\n",
      " [225 256 289 324 361]\n",
      " [400 441 484 529 576]]\n"
     ]
    }
   ],
   "source": [
    "arr = np.arange(25).reshape(5,5)\n",
    "print (arr)\n",
    "print (\"****************************\")\n",
    "sq_arr = np.square(arr)\n",
    "print (sq_arr)"
   ]
  },
  {
   "cell_type": "markdown",
   "id": "sharing-absolute",
   "metadata": {},
   "source": [
    "# Question:8"
   ]
  },
  {
   "cell_type": "markdown",
   "id": "found-daniel",
   "metadata": {},
   "source": [
    "Create 5x6 an array and find the mean?"
   ]
  },
  {
   "cell_type": "code",
   "execution_count": 59,
   "id": "respected-counter",
   "metadata": {},
   "outputs": [
    {
     "name": "stdout",
     "output_type": "stream",
     "text": [
      "[[ 0  1  2  3  4  5]\n",
      " [ 6  7  8  9 10 11]\n",
      " [12 13 14 15 16 17]\n",
      " [18 19 20 21 22 23]\n",
      " [24 25 26 27 28 29]]\n",
      "****************************\n",
      "mean of array is  14.5\n"
     ]
    }
   ],
   "source": [
    "arr = np.arange(30).reshape(5,6)\n",
    "print (arr)\n",
    "print (\"****************************\")\n",
    "mn_arr = np.mean(arr)\n",
    "print (\"mean of array is \", mn_arr)"
   ]
  },
  {
   "cell_type": "markdown",
   "id": "blessed-campbell",
   "metadata": {},
   "source": [
    "# Question:9"
   ]
  },
  {
   "cell_type": "markdown",
   "id": "graduate-entrepreneur",
   "metadata": {},
   "source": [
    "Find the standard deviation of the previous array in Q8?¶"
   ]
  },
  {
   "cell_type": "code",
   "execution_count": 61,
   "id": "presidential-apartment",
   "metadata": {},
   "outputs": [
    {
     "name": "stdout",
     "output_type": "stream",
     "text": [
      "mean of array is  8.65544144839919\n"
     ]
    }
   ],
   "source": [
    "sd_arr = np.std(arr)\n",
    "print (\"standard deviation of array is \", sd_arr)"
   ]
  },
  {
   "cell_type": "markdown",
   "id": "associate-missile",
   "metadata": {},
   "source": [
    "# Question:10"
   ]
  },
  {
   "cell_type": "markdown",
   "id": "orange-colony",
   "metadata": {},
   "source": [
    "Find the median of the previous array in Q8?"
   ]
  },
  {
   "cell_type": "code",
   "execution_count": 62,
   "id": "pressed-mustang",
   "metadata": {},
   "outputs": [
    {
     "name": "stdout",
     "output_type": "stream",
     "text": [
      "median of array is  14.5\n"
     ]
    }
   ],
   "source": [
    "md_arr = np.median(arr)\n",
    "print (\"median of array is \", md_arr)"
   ]
  },
  {
   "cell_type": "markdown",
   "id": "fatal-latest",
   "metadata": {},
   "source": [
    "# Question:11"
   ]
  },
  {
   "cell_type": "markdown",
   "id": "respected-confirmation",
   "metadata": {},
   "source": [
    "Find the transpose of the previous array in Q8?"
   ]
  },
  {
   "cell_type": "code",
   "execution_count": 65,
   "id": "homeless-appearance",
   "metadata": {},
   "outputs": [
    {
     "name": "stdout",
     "output_type": "stream",
     "text": [
      "[[ 0  1  2  3  4  5]\n",
      " [ 6  7  8  9 10 11]\n",
      " [12 13 14 15 16 17]\n",
      " [18 19 20 21 22 23]\n",
      " [24 25 26 27 28 29]]\n",
      "*******************************\n",
      "Transpose of array is \n",
      " [[ 0  6 12 18 24]\n",
      " [ 1  7 13 19 25]\n",
      " [ 2  8 14 20 26]\n",
      " [ 3  9 15 21 27]\n",
      " [ 4 10 16 22 28]\n",
      " [ 5 11 17 23 29]]\n"
     ]
    }
   ],
   "source": [
    "print (arr)\n",
    "print (\"*******************************\")\n",
    "arr_t = arr.T\n",
    "print (\"Transpose of array is \\n\", arr_t)"
   ]
  },
  {
   "cell_type": "markdown",
   "id": "breeding-volunteer",
   "metadata": {},
   "source": [
    "# Question:12"
   ]
  },
  {
   "cell_type": "markdown",
   "id": "corresponding-remainder",
   "metadata": {},
   "source": [
    "Create a 4x4 an array and find the sum of diagonal elements?"
   ]
  },
  {
   "cell_type": "code",
   "execution_count": 93,
   "id": "rubber-programming",
   "metadata": {},
   "outputs": [
    {
     "name": "stdout",
     "output_type": "stream",
     "text": [
      "[[ 1  2  3  4]\n",
      " [ 5  6  7  8]\n",
      " [ 9 10 11 12]\n",
      " [13 14 15 16]]\n",
      "****************************\n",
      "summ of Diagonal is  34\n",
      "and diagonal is  [ 1  6 11 16]\n"
     ]
    }
   ],
   "source": [
    "arr = np.arange(1,17).reshape(4,4)\n",
    "print (arr)\n",
    "print (\"****************************\")\n",
    "sum_diag = np.trace(arr)\n",
    "print (\"summ of Diagonal is \", sum_diag)\n",
    "print (\"and diagonal is \", np.diagonal(arr))"
   ]
  },
  {
   "cell_type": "markdown",
   "id": "desperate-referral",
   "metadata": {},
   "source": [
    "# Question:13"
   ]
  },
  {
   "cell_type": "markdown",
   "id": "available-durham",
   "metadata": {},
   "source": [
    "Find the determinant of the previous array in Q12?"
   ]
  },
  {
   "cell_type": "code",
   "execution_count": 94,
   "id": "afraid-adrian",
   "metadata": {},
   "outputs": [
    {
     "name": "stdout",
     "output_type": "stream",
     "text": [
      "Determinant of array is  0.0\n"
     ]
    }
   ],
   "source": [
    "from numpy.linalg import det\n",
    "det_arr = det(arr)\n",
    "print (\"Determinant of array is \", det_arr)"
   ]
  },
  {
   "cell_type": "markdown",
   "id": "musical-tyler",
   "metadata": {},
   "source": [
    "# Question:14"
   ]
  },
  {
   "cell_type": "markdown",
   "id": "located-spider",
   "metadata": {},
   "source": [
    "Find the 5th and 95th percentile of an array?"
   ]
  },
  {
   "cell_type": "code",
   "execution_count": 97,
   "id": "sorted-hobby",
   "metadata": {},
   "outputs": [
    {
     "name": "stdout",
     "output_type": "stream",
     "text": [
      "[ 1  2  3  4  5  6  7  8  9 10 11 12 13 14 15 16 17 18 19 20 21 22 23 24\n",
      " 25 26 27 28 29 30 31 32 33 34 35 36 37 38 39 40 41 42 43 44 45 46 47 48\n",
      " 49]\n",
      "\n",
      "3.4 - is the 5th percentile\n",
      "46.6 - is the 95th percentile\n"
     ]
    }
   ],
   "source": [
    "a = np.arange(1,50)\n",
    "print(a)\n",
    "print()\n",
    "print(\"{0} - is the 5th percentile\".format(round(np.percentile(a,5),2)))\n",
    "print(\"{0} - is the 95th percentile\".format(round(np.percentile(a,95),2)))"
   ]
  },
  {
   "cell_type": "markdown",
   "id": "unauthorized-lingerie",
   "metadata": {},
   "source": [
    "# Question:16"
   ]
  },
  {
   "cell_type": "markdown",
   "id": "controversial-client",
   "metadata": {},
   "source": [
    "How to find if a given array has any null values?"
   ]
  },
  {
   "cell_type": "code",
   "execution_count": 101,
   "id": "leading-dominant",
   "metadata": {},
   "outputs": [
    {
     "name": "stdout",
     "output_type": "stream",
     "text": [
      "[0 1 2 3 4]\n",
      "False\n",
      "\n",
      "[40. nan 50.]\n",
      "True\n"
     ]
    }
   ],
   "source": [
    "a = np.arange(5)\n",
    "print(a)\n",
    "print(np.isnan(a).any())\n",
    "\n",
    "print()\n",
    "b = np.array([40,np.nan,50])\n",
    "print(b)\n",
    "print(np.isnan(b).any())"
   ]
  },
  {
   "cell_type": "code",
   "execution_count": null,
   "id": "accomplished-enclosure",
   "metadata": {},
   "outputs": [],
   "source": []
  }
 ],
 "metadata": {
  "kernelspec": {
   "display_name": "Python 3",
   "language": "python",
   "name": "python3"
  },
  "language_info": {
   "codemirror_mode": {
    "name": "ipython",
    "version": 3
   },
   "file_extension": ".py",
   "mimetype": "text/x-python",
   "name": "python",
   "nbconvert_exporter": "python",
   "pygments_lexer": "ipython3",
   "version": "3.9.1"
  }
 },
 "nbformat": 4,
 "nbformat_minor": 5
}
