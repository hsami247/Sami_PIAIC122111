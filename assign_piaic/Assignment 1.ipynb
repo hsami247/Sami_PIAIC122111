{
 "cells": [
  {
   "cell_type": "markdown",
   "id": "novel-sudan",
   "metadata": {},
   "source": [
    "# Assignment 01 For Numpy"
   ]
  },
  {
   "cell_type": "markdown",
   "id": "dynamic-cooper",
   "metadata": {},
   "source": [
    "Submitted By Samiullah\n",
    "\n",
    "Roll number: PIAIC122111\n",
    "\n",
    "Batch 12\n",
    "\n",
    "1. Import the numpy package under the name np"
   ]
  },
  {
   "cell_type": "code",
   "execution_count": 49,
   "id": "recreational-polymer",
   "metadata": {},
   "outputs": [],
   "source": [
    "import numpy as np"
   ]
  },
  {
   "cell_type": "markdown",
   "id": "spanish-leather",
   "metadata": {},
   "source": [
    "-----------------------------------------------------------------------------------------"
   ]
  },
  {
   "cell_type": "markdown",
   "id": "occupied-brook",
   "metadata": {},
   "source": [
    "1. Create a null vector of size 10"
   ]
  },
  {
   "cell_type": "code",
   "execution_count": 50,
   "id": "executive-variable",
   "metadata": {},
   "outputs": [
    {
     "data": {
      "text/plain": [
       "array([0., 0., 0., 0., 0., 0., 0., 0., 0., 0.])"
      ]
     },
     "execution_count": 50,
     "metadata": {},
     "output_type": "execute_result"
    }
   ],
   "source": [
    "null_vector = np.zeros(10)\n",
    "null_vector"
   ]
  },
  {
   "cell_type": "markdown",
   "id": "bound-message",
   "metadata": {},
   "source": [
    "-----------------------------------------------------------------------------------------"
   ]
  },
  {
   "cell_type": "markdown",
   "id": "bound-recipe",
   "metadata": {},
   "source": [
    "1. Create a vector with values ranging from 10 to 49"
   ]
  },
  {
   "cell_type": "code",
   "execution_count": 51,
   "id": "organized-airport",
   "metadata": {},
   "outputs": [
    {
     "data": {
      "text/plain": [
       "array([10, 11, 12, 13, 14, 15, 16, 17, 18, 19, 20, 21, 22, 23, 24, 25, 26,\n",
       "       27, 28, 29, 30, 31, 32, 33, 34, 35, 36, 37, 38, 39, 40, 41, 42, 43,\n",
       "       44, 45, 46, 47, 48, 49])"
      ]
     },
     "execution_count": 51,
     "metadata": {},
     "output_type": "execute_result"
    }
   ],
   "source": [
    "vector_1 = np.arange(10, 50)\n",
    "vector_1"
   ]
  },
  {
   "cell_type": "markdown",
   "id": "impossible-perfume",
   "metadata": {},
   "source": [
    "-----------------------------------------------------------------------------------------"
   ]
  },
  {
   "cell_type": "markdown",
   "id": "advisory-hampton",
   "metadata": {},
   "source": [
    "1. Find the shape of previous array in question 3"
   ]
  },
  {
   "cell_type": "code",
   "execution_count": 52,
   "id": "worthy-banking",
   "metadata": {},
   "outputs": [
    {
     "data": {
      "text/plain": [
       "(40,)"
      ]
     },
     "execution_count": 52,
     "metadata": {},
     "output_type": "execute_result"
    }
   ],
   "source": [
    "vector_1.shape"
   ]
  },
  {
   "cell_type": "markdown",
   "id": "found-coupon",
   "metadata": {},
   "source": [
    "-----------------------------------------------------------------------------------------"
   ]
  },
  {
   "cell_type": "markdown",
   "id": "terminal-flooring",
   "metadata": {},
   "source": [
    "1. Print the type of the previous array in question 3"
   ]
  },
  {
   "cell_type": "code",
   "execution_count": 53,
   "id": "speaking-sending",
   "metadata": {},
   "outputs": [
    {
     "data": {
      "text/plain": [
       "numpy.ndarray"
      ]
     },
     "execution_count": 53,
     "metadata": {},
     "output_type": "execute_result"
    }
   ],
   "source": [
    "type(vector_1)"
   ]
  },
  {
   "cell_type": "markdown",
   "id": "secure-survivor",
   "metadata": {},
   "source": [
    "-----------------------------------------------------------------------------------------"
   ]
  },
  {
   "cell_type": "markdown",
   "id": "vocational-george",
   "metadata": {},
   "source": [
    "1. Print the numpy version and the configuration"
   ]
  },
  {
   "cell_type": "code",
   "execution_count": 54,
   "id": "rural-hardware",
   "metadata": {},
   "outputs": [
    {
     "name": "stdout",
     "output_type": "stream",
     "text": [
      "1.19.5\n",
      "blas_mkl_info:\n",
      "  NOT AVAILABLE\n",
      "blis_info:\n",
      "  NOT AVAILABLE\n",
      "openblas_info:\n",
      "    library_dirs = ['D:\\\\a\\\\1\\\\s\\\\numpy\\\\build\\\\openblas_info']\n",
      "    libraries = ['openblas_info']\n",
      "    language = f77\n",
      "    define_macros = [('HAVE_CBLAS', None)]\n",
      "blas_opt_info:\n",
      "    library_dirs = ['D:\\\\a\\\\1\\\\s\\\\numpy\\\\build\\\\openblas_info']\n",
      "    libraries = ['openblas_info']\n",
      "    language = f77\n",
      "    define_macros = [('HAVE_CBLAS', None)]\n",
      "lapack_mkl_info:\n",
      "  NOT AVAILABLE\n",
      "openblas_lapack_info:\n",
      "    library_dirs = ['D:\\\\a\\\\1\\\\s\\\\numpy\\\\build\\\\openblas_lapack_info']\n",
      "    libraries = ['openblas_lapack_info']\n",
      "    language = f77\n",
      "    define_macros = [('HAVE_CBLAS', None)]\n",
      "lapack_opt_info:\n",
      "    library_dirs = ['D:\\\\a\\\\1\\\\s\\\\numpy\\\\build\\\\openblas_lapack_info']\n",
      "    libraries = ['openblas_lapack_info']\n",
      "    language = f77\n",
      "    define_macros = [('HAVE_CBLAS', None)]\n",
      "None\n"
     ]
    }
   ],
   "source": [
    "print (np.__version__) #prints version\n",
    "print (np.show_config())"
   ]
  },
  {
   "cell_type": "markdown",
   "id": "colored-composer",
   "metadata": {},
   "source": [
    "-----------------------------------------------------------------------------------------"
   ]
  },
  {
   "cell_type": "markdown",
   "id": "complex-waterproof",
   "metadata": {},
   "source": [
    "1. Print the dimension of the array in question 3"
   ]
  },
  {
   "cell_type": "code",
   "execution_count": 55,
   "id": "horizontal-arrest",
   "metadata": {},
   "outputs": [
    {
     "data": {
      "text/plain": [
       "1"
      ]
     },
     "execution_count": 55,
     "metadata": {},
     "output_type": "execute_result"
    }
   ],
   "source": [
    "vector_1.ndim"
   ]
  },
  {
   "cell_type": "markdown",
   "id": "expensive-birth",
   "metadata": {},
   "source": [
    "-----------------------------------------------------------------------------------------"
   ]
  },
  {
   "cell_type": "markdown",
   "id": "exterior-playback",
   "metadata": {},
   "source": [
    "1. Create a boolean array with all the True values"
   ]
  },
  {
   "cell_type": "code",
   "execution_count": 56,
   "id": "sound-professional",
   "metadata": {},
   "outputs": [
    {
     "data": {
      "text/plain": [
       "array([ True,  True,  True,  True,  True,  True,  True,  True,  True,\n",
       "        True])"
      ]
     },
     "execution_count": 56,
     "metadata": {},
     "output_type": "execute_result"
    }
   ],
   "source": [
    "bool_array = np.array([1,3,4,5,6,7,8,9,7,6], dtype = bool)\n",
    "bool_array"
   ]
  },
  {
   "cell_type": "markdown",
   "id": "increasing-humidity",
   "metadata": {},
   "source": [
    "-----------------------------------------------------------------------------------------"
   ]
  },
  {
   "cell_type": "markdown",
   "id": "cheap-sarah",
   "metadata": {},
   "source": [
    "1. Create a two dimensional array"
   ]
  },
  {
   "cell_type": "code",
   "execution_count": 57,
   "id": "apart-treat",
   "metadata": {},
   "outputs": [
    {
     "data": {
      "text/plain": [
       "array([[1, 2, 3, 4, 5, 6],\n",
       "       [9, 8, 7, 6, 5, 4]])"
      ]
     },
     "execution_count": 57,
     "metadata": {},
     "output_type": "execute_result"
    }
   ],
   "source": [
    "array_2d = np.array([[1,2,3,4,5,6],[9,8,7,6,5,4]])\n",
    "array_2d"
   ]
  },
  {
   "cell_type": "markdown",
   "id": "acceptable-moment",
   "metadata": {},
   "source": [
    "-----------------------------------------------------------------------------------------"
   ]
  },
  {
   "cell_type": "markdown",
   "id": "instructional-dimension",
   "metadata": {},
   "source": [
    "1. Create a three dimensional array"
   ]
  },
  {
   "cell_type": "code",
   "execution_count": 58,
   "id": "declared-movement",
   "metadata": {},
   "outputs": [
    {
     "data": {
      "text/plain": [
       "array([[[1, 2, 3, 4],\n",
       "        [4, 3, 2, 1]],\n",
       "\n",
       "       [[5, 6, 7, 8],\n",
       "        [8, 7, 6, 5]]])"
      ]
     },
     "execution_count": 58,
     "metadata": {},
     "output_type": "execute_result"
    }
   ],
   "source": [
    "array_3d = np.array([[[1,2,3,4],[4,3,2,1]],[[5,6,7,8],[8,7,6,5]]])\n",
    "array_3d"
   ]
  },
  {
   "cell_type": "markdown",
   "id": "dressed-layout",
   "metadata": {},
   "source": [
    "-----------------------------------------------------------------------------------------"
   ]
  },
  {
   "cell_type": "markdown",
   "id": "stable-compensation",
   "metadata": {},
   "source": [
    "Difficulty Level Easy\n",
    "\n",
    "1. Reverse a vector (first element becomes last)"
   ]
  },
  {
   "cell_type": "code",
   "execution_count": 59,
   "id": "continental-disco",
   "metadata": {},
   "outputs": [
    {
     "name": "stdout",
     "output_type": "stream",
     "text": [
      "[0 1 2 3 4 5 6 7 8 9]\n",
      "[9 8 7 6 5 4 3 2 1 0]\n"
     ]
    }
   ],
   "source": [
    "vector_array = np.arange(0, 10)\n",
    "print(vector_array)\n",
    "\n",
    "reverse_vector = vector_array[::-1]\n",
    "print(reverse_vector)"
   ]
  },
  {
   "cell_type": "markdown",
   "id": "phantom-justice",
   "metadata": {},
   "source": [
    "-----------------------------------------------------------------------------------------"
   ]
  },
  {
   "cell_type": "markdown",
   "id": "bizarre-netscape",
   "metadata": {},
   "source": [
    "1. Create a null vector of size 10 but the fifth value which is 1"
   ]
  },
  {
   "cell_type": "code",
   "execution_count": 60,
   "id": "fatty-luther",
   "metadata": {},
   "outputs": [
    {
     "name": "stdout",
     "output_type": "stream",
     "text": [
      "[0. 0. 0. 0. 1. 0. 0. 0. 0. 0.]\n"
     ]
    }
   ],
   "source": [
    "null_vector = np.zeros(10)\n",
    "null_vector[4] = 1\n",
    "print (null_vector)"
   ]
  },
  {
   "cell_type": "markdown",
   "id": "waiting-employment",
   "metadata": {},
   "source": [
    "-----------------------------------------------------------------------------------------"
   ]
  },
  {
   "cell_type": "markdown",
   "id": "downtown-surname",
   "metadata": {},
   "source": [
    "1. Create a 3x3 identity matrix"
   ]
  },
  {
   "cell_type": "code",
   "execution_count": 61,
   "id": "concerned-afternoon",
   "metadata": {},
   "outputs": [
    {
     "name": "stdout",
     "output_type": "stream",
     "text": [
      "[[1. 0. 0.]\n",
      " [0. 1. 0.]\n",
      " [0. 0. 1.]]\n"
     ]
    }
   ],
   "source": [
    "identity_matrix = np.eye(3)\n",
    "print (identity_matrix)"
   ]
  },
  {
   "cell_type": "markdown",
   "id": "apparent-field",
   "metadata": {},
   "source": [
    "-----------------------------------------------------------------------------------------"
   ]
  },
  {
   "cell_type": "markdown",
   "id": "correct-concept",
   "metadata": {},
   "source": [
    "1. arr = np.array([1, 2, 3, 4, 5])\n",
    "\n",
    "Convert the data type of the given array from int to float"
   ]
  },
  {
   "cell_type": "code",
   "execution_count": 62,
   "id": "stainless-stress",
   "metadata": {},
   "outputs": [
    {
     "name": "stdout",
     "output_type": "stream",
     "text": [
      "[1. 2. 3. 4. 5.]\n",
      "float64\n"
     ]
    }
   ],
   "source": [
    "arr = np.array([1,2,3,4,5], dtype=float)\n",
    "print(arr)\n",
    "print (arr.dtype)"
   ]
  },
  {
   "cell_type": "markdown",
   "id": "distinct-necklace",
   "metadata": {},
   "source": [
    "-----"
   ]
  },
  {
   "cell_type": "markdown",
   "id": "according-philosophy",
   "metadata": {},
   "source": [
    "1. arr1 = np.array([[1., 2., 3.],\n",
    "\n",
    "            [4., 5., 6.]])  \n",
    "\n",
    "arr2 = np.array([[0., 4., 1.],\n",
    "\n",
    "           [7., 2., 12.]])\n",
    "\n",
    "Multiply arr1 with arr2"
   ]
  },
  {
   "cell_type": "code",
   "execution_count": 63,
   "id": "formal-asthma",
   "metadata": {},
   "outputs": [
    {
     "name": "stdout",
     "output_type": "stream",
     "text": [
      "[[ 0.  8.  3.]\n",
      " [28. 10. 72.]]\n"
     ]
    }
   ],
   "source": [
    "arr1 = np.array([[1., 2., 3.],[4., 5., 6.]])\n",
    "arr2 = np.array([[0., 4., 1.],[7., 2., 12.]])\n",
    "print (arr1*arr2)"
   ]
  },
  {
   "cell_type": "markdown",
   "id": "wired-personal",
   "metadata": {},
   "source": [
    "-----------------------------------------------------------------------------------------"
   ]
  },
  {
   "cell_type": "markdown",
   "id": "consolidated-testament",
   "metadata": {},
   "source": [
    "1. arr1 = np.array([[1., 2., 3.],\n",
    "\n",
    "            [4., 5., 6.]]) \n",
    "\n",
    "arr2 = np.array([[0., 4., 1.],\n",
    "\n",
    "            [7., 2., 12.]])\n",
    "\n",
    "Make an array by comparing both the arrays provided above"
   ]
  },
  {
   "cell_type": "code",
   "execution_count": 65,
   "id": "fifth-designer",
   "metadata": {},
   "outputs": [
    {
     "name": "stdout",
     "output_type": "stream",
     "text": [
      "[[False False False]\n",
      " [False False False]]\n"
     ]
    }
   ],
   "source": [
    "arr1 = np.array([[1., 2., 3.],[4., 5., 6.]])\n",
    "arr2 = np.array([[0., 4., 1.],[7., 2., 12.]])\n",
    "print (arr1 == arr2)"
   ]
  },
  {
   "cell_type": "markdown",
   "id": "eligible-width",
   "metadata": {},
   "source": [
    "-----------------------------------------------------------------------------------------"
   ]
  },
  {
   "cell_type": "markdown",
   "id": "derived-literacy",
   "metadata": {},
   "source": [
    "1. Extract all odd numbers from arr with values(0-9)"
   ]
  },
  {
   "cell_type": "code",
   "execution_count": 69,
   "id": "motivated-canal",
   "metadata": {},
   "outputs": [
    {
     "name": "stdout",
     "output_type": "stream",
     "text": [
      "[0 1 2 3 4 5 6 7 8 9]\n",
      "[1 3 5 7 9]\n"
     ]
    }
   ],
   "source": [
    "num_array = np.arange(10)\n",
    "print (num_array)\n",
    "print (num_array[num_array%2 != 0])"
   ]
  },
  {
   "cell_type": "markdown",
   "id": "lyric-eagle",
   "metadata": {},
   "source": [
    "-----------------------------------------------------------------------------------------"
   ]
  },
  {
   "cell_type": "markdown",
   "id": "naked-canal",
   "metadata": {},
   "source": [
    "1. Replace all odd numbers to -1 from previous array"
   ]
  },
  {
   "cell_type": "code",
   "execution_count": 71,
   "id": "satellite-austin",
   "metadata": {},
   "outputs": [
    {
     "name": "stdout",
     "output_type": "stream",
     "text": [
      "[ 0 -1  2 -1  4 -1  6 -1  8 -1]\n"
     ]
    }
   ],
   "source": [
    "num_array[num_array%2 != 0] = -1\n",
    "print (num_array)"
   ]
  },
  {
   "cell_type": "markdown",
   "id": "departmental-humanitarian",
   "metadata": {},
   "source": [
    "-----------------------------------------------------------------------------------------"
   ]
  },
  {
   "cell_type": "markdown",
   "id": "adjacent-lawsuit",
   "metadata": {},
   "source": [
    "1. arr = np.arange(10)\n",
    "\n",
    "Replace the values of indexes 5,6,7 and 8 to 12"
   ]
  },
  {
   "cell_type": "code",
   "execution_count": 75,
   "id": "metallic-gamma",
   "metadata": {},
   "outputs": [
    {
     "name": "stdout",
     "output_type": "stream",
     "text": [
      "[0 1 2 3 4 5 6 7 8 9]\n",
      "[ 0  1  2  3 12 12 12 12  8  9]\n"
     ]
    }
   ],
   "source": [
    "arr = np.arange(10)\n",
    "print (arr)\n",
    "arr[4] = arr[5] = arr[6] = arr[7] = 12\n",
    "print (arr)"
   ]
  },
  {
   "cell_type": "markdown",
   "id": "subject-johnson",
   "metadata": {},
   "source": [
    "-------------------------------------------"
   ]
  },
  {
   "cell_type": "markdown",
   "id": "equivalent-startup",
   "metadata": {},
   "source": [
    "1. Create a 2d array with 1 on the border and 0 inside"
   ]
  },
  {
   "cell_type": "code",
   "execution_count": 91,
   "id": "considerable-wichita",
   "metadata": {},
   "outputs": [
    {
     "name": "stdout",
     "output_type": "stream",
     "text": [
      "[[1 1 1 1 1 1 1 1 1 1]\n",
      " [1 0 0 0 0 0 0 0 0 1]\n",
      " [1 0 0 0 0 0 0 0 0 1]\n",
      " [1 0 0 0 0 0 0 0 0 1]\n",
      " [1 0 0 0 0 0 0 0 0 1]\n",
      " [1 0 0 0 0 0 0 0 0 1]\n",
      " [1 0 0 0 0 0 0 0 0 1]\n",
      " [1 0 0 0 0 0 0 0 0 1]\n",
      " [1 0 0 0 0 0 0 0 0 1]\n",
      " [1 1 1 1 1 1 1 1 1 1]]\n"
     ]
    }
   ],
   "source": [
    "arr2d = np.zeros((10,10), dtype = int)\n",
    "arr2d[:, 0:1] = arr2d[:, 9:10] = arr2d[0:1, :] = arr2d[9:10, :] = 1\n",
    "\n",
    "print(arr2d)"
   ]
  },
  {
   "cell_type": "markdown",
   "id": "sacred-donna",
   "metadata": {},
   "source": [
    "-----------------------------------------------------------------------------------------"
   ]
  },
  {
   "cell_type": "markdown",
   "id": "vital-sustainability",
   "metadata": {},
   "source": [
    "1. Difficulty Level Medium\n",
    "\n",
    "arr2d = np.array([[1, 2, 3],\n",
    "\n",
    "            [4, 5, 6], \n",
    "\n",
    "            [7, 8, 9]])\n",
    "Replace the value 5 to 12"
   ]
  },
  {
   "cell_type": "code",
   "execution_count": 73,
   "id": "rubber-supervisor",
   "metadata": {},
   "outputs": [
    {
     "name": "stdout",
     "output_type": "stream",
     "text": [
      "[[1 2 3]\n",
      " [4 5 6]\n",
      " [7 8 9]]\n",
      "[[ 1  2  3]\n",
      " [ 4 12  6]\n",
      " [ 7  8  9]]\n"
     ]
    }
   ],
   "source": [
    "arr2d = np.array([[1, 2, 3],[4, 5, 6],[7, 8, 9]])\n",
    "print (arr2d)\n",
    "arr2d[1,1] = 12\n",
    "print (arr2d)"
   ]
  },
  {
   "cell_type": "markdown",
   "id": "herbal-cleaner",
   "metadata": {},
   "source": [
    "-----------------------------------------------------------------------------------------"
   ]
  },
  {
   "cell_type": "markdown",
   "id": "entitled-index",
   "metadata": {},
   "source": [
    "1. arr3d = np.array([[[1, 2, 3], [4, 5, 6]], [[7, 8, 9], [10, 11, 12]]])\n",
    "\n",
    "Convert all the values of 1st array to 64"
   ]
  },
  {
   "cell_type": "code",
   "execution_count": 74,
   "id": "confidential-stephen",
   "metadata": {},
   "outputs": [
    {
     "name": "stdout",
     "output_type": "stream",
     "text": [
      "[[[ 1  2  3]\n",
      "  [ 4  5  6]]\n",
      "\n",
      " [[ 7  8  9]\n",
      "  [10 11 12]]]\n",
      "[[[64 64 64]\n",
      "  [ 4  5  6]]\n",
      "\n",
      " [[ 7  8  9]\n",
      "  [10 11 12]]]\n"
     ]
    }
   ],
   "source": [
    "arr3d = np.array([[[1, 2, 3], [4, 5, 6]], [[7, 8, 9], [10, 11, 12]]])\n",
    "print (arr3d)\n",
    "arr3d[0,0,0]=arr3d[0,0,1]=arr3d[0,0,2]=64\n",
    "print (arr3d)"
   ]
  },
  {
   "cell_type": "markdown",
   "id": "early-cardiff",
   "metadata": {},
   "source": [
    "-----------------------------------------------------------------------------------------"
   ]
  },
  {
   "cell_type": "markdown",
   "id": "noble-happiness",
   "metadata": {},
   "source": [
    "1. Make a 2-Dimensional array with values 0-9 and slice out the first 1st 1-D array from it"
   ]
  },
  {
   "cell_type": "code",
   "execution_count": 96,
   "id": "engaging-success",
   "metadata": {},
   "outputs": [
    {
     "name": "stdout",
     "output_type": "stream",
     "text": [
      "[[0 1 2]\n",
      " [3 4 5]\n",
      " [6 7 8]]\n",
      "***********************************\n",
      "[0 1 2]\n"
     ]
    }
   ],
   "source": [
    "arr_2d = np.arange(0,9).reshape(3,3)\n",
    "print (arr_2d)\n",
    "print (\"***********************************\")\n",
    "arr_1d = arr_2d[0]\n",
    "print (arr_1d)"
   ]
  },
  {
   "cell_type": "markdown",
   "id": "consistent-dynamics",
   "metadata": {},
   "source": [
    "-----------------------------------------------------------------------------------------"
   ]
  },
  {
   "cell_type": "markdown",
   "id": "endless-merchandise",
   "metadata": {},
   "source": [
    "1. Make a 2-Dimensional array with values 0-9 and slice out the 2nd value from 2nd 1-D array from it"
   ]
  },
  {
   "cell_type": "code",
   "execution_count": 97,
   "id": "muslim-liberia",
   "metadata": {},
   "outputs": [
    {
     "name": "stdout",
     "output_type": "stream",
     "text": [
      "[[0 1 2]\n",
      " [3 4 5]\n",
      " [6 7 8]]\n",
      "************************************\n",
      "4\n"
     ]
    }
   ],
   "source": [
    "arr_2d = np.arange(0,9).reshape(3,3)\n",
    "print (arr_2d)\n",
    "print (\"************************************\")\n",
    "arr_val = arr_2d[1,1]\n",
    "print (arr_val)"
   ]
  },
  {
   "cell_type": "markdown",
   "id": "organic-iraqi",
   "metadata": {},
   "source": [
    "-----------------------------------------------------------------------------------------"
   ]
  },
  {
   "cell_type": "markdown",
   "id": "technical-vaccine",
   "metadata": {},
   "source": [
    "1. Make a 2-Dimensional array with values 0-9 and slice out the third column but only the first two rows"
   ]
  },
  {
   "cell_type": "code",
   "execution_count": 98,
   "id": "ongoing-restoration",
   "metadata": {},
   "outputs": [
    {
     "name": "stdout",
     "output_type": "stream",
     "text": [
      "[[0 1 2]\n",
      " [3 4 5]\n",
      " [6 7 8]]\n",
      "************************************\n",
      "[[2]\n",
      " [5]]\n"
     ]
    }
   ],
   "source": [
    "arr_2d = np.arange(0,9).reshape(3,3)\n",
    "print (arr_2d)\n",
    "print (\"************************************\")\n",
    "print (arr_2d[0:2, 2:3])"
   ]
  },
  {
   "cell_type": "markdown",
   "id": "major-retrieval",
   "metadata": {},
   "source": [
    "-----------------------------------------------------------------------------------------"
   ]
  },
  {
   "cell_type": "markdown",
   "id": "rural-hungary",
   "metadata": {},
   "source": [
    "1. Create a 10x10 array with random values and find the minimum and maximum values"
   ]
  },
  {
   "cell_type": "code",
   "execution_count": 124,
   "id": "european-roommate",
   "metadata": {},
   "outputs": [
    {
     "name": "stdout",
     "output_type": "stream",
     "text": [
      "[[ -8  -3   0  -1  -1  -9  -7   0   6  -5]\n",
      " [ -1   0   5  -2  -1  -9  -1  15  -7  -8]\n",
      " [  9  -2  14   2  -6   3 -18  -1   2   0]\n",
      " [ -2  -5  -5   4   0 -12 -14  -5   7  -3]\n",
      " [  9 -14  -2   8  -6   0  -3   6  -3   7]\n",
      " [ 11   1   8   9  -9 -10  -2  -3   1   1]\n",
      " [ 17  10  14  -3 -11   3  10  13  13  -1]\n",
      " [ -2   2  -8   2  15   8  13  -3  16  10]\n",
      " [ -1 -32   2  -2 -12   4  -9   7  14   0]\n",
      " [ -7  11   1  -8  10   5  -7 -24 -10   0]]\n",
      "********************************\n",
      "minimum num in array is  -32\n",
      "maximum num in array is 17\n"
     ]
    }
   ],
   "source": [
    "arr = np.array(np.random.randn(10,10)*10, dtype=np.int32)\n",
    "print (arr)\n",
    "print (\"********************************\")\n",
    "arr_min, arr_max = arr.min(), arr.max()\n",
    "print(\"minimum num in array is \", arr_min)\n",
    "print(\"maximum num in array is\", arr_max)\n",
    "#print (\"mininum number in array is \"arr_min)"
   ]
  },
  {
   "cell_type": "markdown",
   "id": "likely-agenda",
   "metadata": {},
   "source": [
    "-----------------------------------------------------------------------------------------"
   ]
  },
  {
   "cell_type": "markdown",
   "id": "blond-public",
   "metadata": {},
   "source": [
    "# 27. a = np.array([1,2,3,2,3,4,3,4,5,6]) b = np.array([7,2,10,2,7,4,9,4,9,8])"
   ]
  },
  {
   "cell_type": "markdown",
   "id": "mature-athletics",
   "metadata": {},
   "source": [
    "1. Find the common items between a and b"
   ]
  },
  {
   "cell_type": "code",
   "execution_count": 132,
   "id": "ignored-mexico",
   "metadata": {},
   "outputs": [
    {
     "name": "stdout",
     "output_type": "stream",
     "text": [
      "Common items are :  [2 4]\n"
     ]
    }
   ],
   "source": [
    "a = np.array([1,2,3,2,3,4,3,4,5,6])\n",
    "b = np.array([7,2,10,2,7,4,9,4,9,8])\n",
    "print(\"Common items are : \",np.intersect1d(a,b))"
   ]
  },
  {
   "cell_type": "markdown",
   "id": "wicked-fireplace",
   "metadata": {},
   "source": [
    "-----------------------------------------------------------------------------------------"
   ]
  },
  {
   "cell_type": "markdown",
   "id": "refined-designation",
   "metadata": {},
   "source": [
    "1. a = np.array([1,2,3,2,3,4,3,4,5,6]) b = np.array([7,2,10,2,7,4,9,4,9,8])\n",
    "\n",
    "Find the positions where elements of a and b match"
   ]
  },
  {
   "cell_type": "code",
   "execution_count": 133,
   "id": "earned-catalyst",
   "metadata": {},
   "outputs": [
    {
     "name": "stdout",
     "output_type": "stream",
     "text": [
      "(array([1, 3, 5, 7], dtype=int64),)\n"
     ]
    }
   ],
   "source": [
    "a = np.array([1,2,3,2,3,4,3,4,5,6])\n",
    "b = np.array([7,2,10,2,7,4,9,4,9,8])\n",
    "print(np.where(a==b))"
   ]
  },
  {
   "cell_type": "markdown",
   "id": "bottom-pendant",
   "metadata": {},
   "source": [
    "-----------------------------------------------------------------------------------------"
   ]
  },
  {
   "cell_type": "markdown",
   "id": "alert-default",
   "metadata": {},
   "source": [
    "1. names = np.array(['Bob', 'Joe', 'Will', 'Bob', 'Will', 'Joe', 'Joe']) data = np.random.randn(7, 4)\n",
    "\n",
    "Find all the values from array data where the values from array names are not equal to Will"
   ]
  },
  {
   "cell_type": "code",
   "execution_count": 141,
   "id": "editorial-chemical",
   "metadata": {},
   "outputs": [
    {
     "data": {
      "text/plain": [
       "array([[ 1.38975297,  0.08529278, -1.1380804 , -1.16850502],\n",
       "       [-0.17302625,  2.19219891, -0.65993084,  0.18974677],\n",
       "       [ 0.44576295,  1.1954789 ,  1.44514626, -0.68456428],\n",
       "       [ 0.18864295, -2.2521334 ,  0.80965758, -0.11557596],\n",
       "       [-0.6447459 , -1.51374394,  0.74692614,  0.47474219]])"
      ]
     },
     "execution_count": 141,
     "metadata": {},
     "output_type": "execute_result"
    }
   ],
   "source": [
    "names = np.array(['Bob', 'Joe', 'Will', 'Bob', 'Will', 'Joe', 'Joe']) \n",
    "data = np.random.randn(7, 4)\n",
    "data[(names != 'Will')]"
   ]
  },
  {
   "cell_type": "markdown",
   "id": "dietary-canal",
   "metadata": {},
   "source": [
    "-----------------------------------------------------------------------------------------"
   ]
  },
  {
   "cell_type": "markdown",
   "id": "superior-template",
   "metadata": {},
   "source": [
    "1. names = np.array(['Bob', 'Joe', 'Will', 'Bob', 'Will', 'Joe', 'Joe']) data = np.random.randn(7, 4)\n",
    "\n",
    "Find all the values from array data where the values from array names are not equal to Will and Joe"
   ]
  },
  {
   "cell_type": "code",
   "execution_count": 147,
   "id": "broadband-adrian",
   "metadata": {},
   "outputs": [
    {
     "data": {
      "text/plain": [
       "array([[ 0.56640243,  0.09085753,  0.86091429,  1.50732646],\n",
       "       [ 1.66949947,  0.68676194,  1.31561422, -0.06737927],\n",
       "       [-0.48198158,  0.62100211, -1.25807742, -0.65275259],\n",
       "       [ 0.37229788,  0.3597962 ,  0.31117486, -0.44621107],\n",
       "       [-0.4275036 ,  1.02594037, -1.46627247,  0.07669985],\n",
       "       [ 1.31558505, -1.49037045, -0.04390033,  2.05088584],\n",
       "       [-0.07586573, -0.27756394, -0.4432534 ,  0.17132751]])"
      ]
     },
     "execution_count": 147,
     "metadata": {},
     "output_type": "execute_result"
    }
   ],
   "source": [
    "names = np.array(['Bob', 'Joe', 'Will', 'Bob', 'Will', 'Joe', 'Joe']) \n",
    "data = np.random.randn(7, 4)\n",
    "data[((names != 'Will') | (names != 'Joe'))]"
   ]
  },
  {
   "cell_type": "markdown",
   "id": "aggressive-cornell",
   "metadata": {},
   "source": [
    "-----------------------------------------------------------------------------------------"
   ]
  },
  {
   "cell_type": "markdown",
   "id": "steady-palace",
   "metadata": {},
   "source": [
    "1. Difficulty Level Hard\n",
    "\n",
    "Create a 2D array of shape 5x3 to contain decimal numbers between 1 and 15."
   ]
  },
  {
   "cell_type": "code",
   "execution_count": 150,
   "id": "latest-valley",
   "metadata": {},
   "outputs": [
    {
     "data": {
      "text/plain": [
       "array([[ 0.,  1.,  2.],\n",
       "       [ 3.,  4.,  5.],\n",
       "       [ 6.,  7.,  8.],\n",
       "       [ 9., 10., 11.],\n",
       "       [12., 13., 14.]])"
      ]
     },
     "execution_count": 150,
     "metadata": {},
     "output_type": "execute_result"
    }
   ],
   "source": [
    "arr_2d = np.arange(15.0).reshape(5,3)\n",
    "arr_2d"
   ]
  },
  {
   "cell_type": "markdown",
   "id": "continued-worship",
   "metadata": {},
   "source": [
    "-----------------------------------------------------------------------------------------"
   ]
  },
  {
   "cell_type": "markdown",
   "id": "blocked-crime",
   "metadata": {},
   "source": [
    "1. Create an array of shape (2, 2, 4) with decimal numbers between 1 to 16."
   ]
  },
  {
   "cell_type": "code",
   "execution_count": 152,
   "id": "elementary-passage",
   "metadata": {},
   "outputs": [
    {
     "data": {
      "text/plain": [
       "array([[[ 0.,  1.,  2.,  3.],\n",
       "        [ 4.,  5.,  6.,  7.]],\n",
       "\n",
       "       [[ 8.,  9., 10., 11.],\n",
       "        [12., 13., 14., 15.]]])"
      ]
     },
     "execution_count": 152,
     "metadata": {},
     "output_type": "execute_result"
    }
   ],
   "source": [
    "arr = np.arange(16.0).reshape(2,2,4)\n",
    "arr"
   ]
  },
  {
   "cell_type": "markdown",
   "id": "binding-viewer",
   "metadata": {},
   "source": [
    "-----------------------------------------------------------------------------------------"
   ]
  },
  {
   "cell_type": "markdown",
   "id": "bizarre-broadway",
   "metadata": {},
   "source": [
    "1. Swap axes of the array you created in Question 32"
   ]
  },
  {
   "cell_type": "code",
   "execution_count": 153,
   "id": "discrete-shape",
   "metadata": {},
   "outputs": [
    {
     "data": {
      "text/plain": [
       "array([[[ 0.,  8.],\n",
       "        [ 4., 12.]],\n",
       "\n",
       "       [[ 1.,  9.],\n",
       "        [ 5., 13.]],\n",
       "\n",
       "       [[ 2., 10.],\n",
       "        [ 6., 14.]],\n",
       "\n",
       "       [[ 3., 11.],\n",
       "        [ 7., 15.]]])"
      ]
     },
     "execution_count": 153,
     "metadata": {},
     "output_type": "execute_result"
    }
   ],
   "source": [
    "arr.T"
   ]
  },
  {
   "cell_type": "markdown",
   "id": "super-choice",
   "metadata": {},
   "source": [
    "-----------------------------------------------------------------------------------------"
   ]
  },
  {
   "cell_type": "markdown",
   "id": "unnecessary-yugoslavia",
   "metadata": {},
   "source": [
    "1. Create an array of size 10, and find the square root of every element in the array, if the values less than 0.5, replace them with 0"
   ]
  },
  {
   "cell_type": "code",
   "execution_count": 155,
   "id": "funky-slope",
   "metadata": {},
   "outputs": [
    {
     "data": {
      "text/plain": [
       "array([0.        , 1.        , 1.41421356, 1.73205081, 2.        ,\n",
       "       2.23606798, 2.44948974, 2.64575131, 2.82842712, 3.        ])"
      ]
     },
     "execution_count": 155,
     "metadata": {},
     "output_type": "execute_result"
    }
   ],
   "source": [
    "arr_sqrt = np.arange(10)\n",
    "np.sqrt(arr_sqrt)"
   ]
  },
  {
   "cell_type": "markdown",
   "id": "unique-focus",
   "metadata": {},
   "source": [
    "-----------------------------------------------------------------------------------------"
   ]
  },
  {
   "cell_type": "markdown",
   "id": "exciting-rugby",
   "metadata": {},
   "source": [
    "1. Create two random arrays of range 12 and make an array with the maximum values between each element of the two arrays"
   ]
  },
  {
   "cell_type": "code",
   "execution_count": 158,
   "id": "lucky-vulnerability",
   "metadata": {},
   "outputs": [
    {
     "name": "stdout",
     "output_type": "stream",
     "text": [
      "[ 1.68192917  0.58934246  0.48737884  1.00258382  0.91126312  0.5329313\n",
      " -0.59874317 -1.38181748  1.33613653 -0.67636381  0.77439946  1.17714953]\n"
     ]
    }
   ],
   "source": [
    "ar1 = np.random.randn(12)\n",
    "ar2 = np.random.randn(12)\n",
    "print(np.maximum(ar1, ar2))"
   ]
  },
  {
   "cell_type": "markdown",
   "id": "similar-margin",
   "metadata": {},
   "source": [
    "-----------------------------------------------------------------------------------------"
   ]
  },
  {
   "cell_type": "markdown",
   "id": "juvenile-compensation",
   "metadata": {},
   "source": [
    "1. names = np.array(['Bob', 'Joe', 'Will', 'Bob', 'Will', 'Joe', 'Joe'])\n",
    "\n",
    "Find the unique names and sort them out!"
   ]
  },
  {
   "cell_type": "code",
   "execution_count": 161,
   "id": "dried-falls",
   "metadata": {},
   "outputs": [
    {
     "data": {
      "text/plain": [
       "array(['Bob', 'Joe', 'Will'], dtype='<U4')"
      ]
     },
     "execution_count": 161,
     "metadata": {},
     "output_type": "execute_result"
    }
   ],
   "source": [
    "names = np.array(['Bob', 'Joe', 'Will', 'Bob', 'Will', 'Joe', 'Joe'])\n",
    "np.sort(np.unique(names))"
   ]
  },
  {
   "cell_type": "markdown",
   "id": "minute-pacific",
   "metadata": {},
   "source": [
    "-----------------------------------------------------------------------------------------"
   ]
  },
  {
   "cell_type": "markdown",
   "id": "sacred-river",
   "metadata": {},
   "source": [
    "1. a = np.array([1,2,3,4,5]) b = np.array([5,6,7,8,9])\n",
    "\n",
    "From array a remove all items present in array b"
   ]
  },
  {
   "cell_type": "code",
   "execution_count": 164,
   "id": "random-content",
   "metadata": {},
   "outputs": [
    {
     "name": "stdout",
     "output_type": "stream",
     "text": [
      "[1 2 3 4]\n"
     ]
    }
   ],
   "source": [
    "a = np.array([1,2,3,4,5]) \n",
    "b = np.array([5,6,7,8,9])\n",
    "a = np.setdiff1d(a,b)\n",
    "print(a)"
   ]
  },
  {
   "cell_type": "markdown",
   "id": "spread-reflection",
   "metadata": {},
   "source": [
    "-----------------------------------------------------------------------------------------"
   ]
  },
  {
   "cell_type": "markdown",
   "id": "handed-beijing",
   "metadata": {},
   "source": [
    "1. Following is the input NumPy array delete column two and insert following new column in its place.\n",
    "\n",
    "sampleArray = numpy.array([[34,43,73],[82,22,12],[53,94,66]])\n",
    "\n",
    "newColumn = numpy.array([[10,10,10]])"
   ]
  },
  {
   "cell_type": "code",
   "execution_count": 171,
   "id": "disciplinary-hawaiian",
   "metadata": {},
   "outputs": [
    {
     "data": {
      "text/plain": [
       "array([[34, 10, 73],\n",
       "       [82, 10, 12],\n",
       "       [53, 10, 66]])"
      ]
     },
     "execution_count": 171,
     "metadata": {},
     "output_type": "execute_result"
    }
   ],
   "source": [
    "sampleArray = np.array([[34,43,73],[82,22,12],[53,94,66]])\n",
    "sampleArray[:, 1:2] = 10\n",
    "sampleArray"
   ]
  },
  {
   "cell_type": "markdown",
   "id": "fifth-burner",
   "metadata": {},
   "source": [
    "-----------------------------------------------------------------------------------------"
   ]
  },
  {
   "cell_type": "markdown",
   "id": "outside-dictionary",
   "metadata": {},
   "source": [
    "1. x = np.array([[1., 2., 3.], [4., 5., 6.]]) y = np.array([[6., 23.], [-1, 7], [8, 9]])\n",
    "\n",
    "Find the dot product of the above two matrix"
   ]
  },
  {
   "cell_type": "code",
   "execution_count": 175,
   "id": "trained-speech",
   "metadata": {},
   "outputs": [
    {
     "name": "stdout",
     "output_type": "stream",
     "text": [
      "[[ 28.  64.]\n",
      " [ 67. 181.]]\n"
     ]
    }
   ],
   "source": [
    "x = np.array([[1., 2., 3.], [4., 5., 6.]]) \n",
    "y = np.array([[6., 23.], [-1, 7], [8, 9]])\n",
    "z = np.dot(x,y)\n",
    "print (z)"
   ]
  },
  {
   "cell_type": "markdown",
   "id": "remarkable-commonwealth",
   "metadata": {},
   "source": [
    "-----------------------------------------------------------------------------------------"
   ]
  },
  {
   "cell_type": "markdown",
   "id": "enabling-israeli",
   "metadata": {},
   "source": [
    "1. Generate a matrix of 20 random values and find its cumulative sum"
   ]
  },
  {
   "cell_type": "code",
   "execution_count": 176,
   "id": "changed-director",
   "metadata": {},
   "outputs": [
    {
     "data": {
      "text/plain": [
       "array([-0.58037558, -2.70860094, -3.08685428, -3.88854128, -4.34874309,\n",
       "       -3.91175086, -3.00916746, -3.58177891, -2.48498576, -1.12960936,\n",
       "       -1.01078002, -1.23311215,  0.06408611, -1.50151833, -1.77770542,\n",
       "       -0.02783095,  1.5029134 , -0.61109032,  0.19649897, -0.42439895])"
      ]
     },
     "execution_count": 176,
     "metadata": {},
     "output_type": "execute_result"
    }
   ],
   "source": [
    "arr = np.random.randn(20)\n",
    "cum_arr = np.cumsum(arr)\n",
    "cum_arr"
   ]
  },
  {
   "cell_type": "markdown",
   "id": "magnetic-session",
   "metadata": {},
   "source": [
    "-----------------------------------------------------------------------------------------"
   ]
  }
 ],
 "metadata": {
  "kernelspec": {
   "display_name": "Python 3",
   "language": "python",
   "name": "python3"
  },
  "language_info": {
   "codemirror_mode": {
    "name": "ipython",
    "version": 3
   },
   "file_extension": ".py",
   "mimetype": "text/x-python",
   "name": "python",
   "nbconvert_exporter": "python",
   "pygments_lexer": "ipython3",
   "version": "3.9.1"
  }
 },
 "nbformat": 4,
 "nbformat_minor": 5
}
